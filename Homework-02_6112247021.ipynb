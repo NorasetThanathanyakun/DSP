{
 "nbformat": 4,
 "nbformat_minor": 2,
 "metadata": {
  "language_info": {
   "name": "python",
   "codemirror_mode": {
    "name": "ipython",
    "version": 3
   },
   "version": "3.7.4-final"
  },
  "orig_nbformat": 2,
  "file_extension": ".py",
  "mimetype": "text/x-python",
  "name": "python",
  "npconvert_exporter": "python",
  "pygments_lexer": "ipython3",
  "version": 3,
  "kernelspec": {
   "name": "python3",
   "display_name": "Python 3"
  }
 },
 "cells": [
  {
   "cell_type": "code",
   "execution_count": 106,
   "metadata": {},
   "outputs": [
    {
     "output_type": "error",
     "ename": "ModuleNotFoundError",
     "evalue": "No module named 'thinkdsp'",
     "traceback": [
      "\u001b[1;31m---------------------------------------------------------------------------\u001b[0m",
      "\u001b[1;31mModuleNotFoundError\u001b[0m                       Traceback (most recent call last)",
      "\u001b[1;32m<ipython-input-106-808d4724f312>\u001b[0m in \u001b[0;36m<module>\u001b[1;34m\u001b[0m\n\u001b[0;32m      6\u001b[0m \u001b[0mwarnings\u001b[0m\u001b[1;33m.\u001b[0m\u001b[0mfilterwarnings\u001b[0m\u001b[1;33m(\u001b[0m\u001b[1;34m'ignore'\u001b[0m\u001b[1;33m)\u001b[0m\u001b[1;33m\u001b[0m\u001b[1;33m\u001b[0m\u001b[0m\n\u001b[0;32m      7\u001b[0m \u001b[1;33m\u001b[0m\u001b[0m\n\u001b[1;32m----> 8\u001b[1;33m \u001b[1;32mimport\u001b[0m \u001b[0mthinkdsp\u001b[0m\u001b[1;33m\u001b[0m\u001b[1;33m\u001b[0m\u001b[0m\n\u001b[0m\u001b[0;32m      9\u001b[0m \u001b[1;32mimport\u001b[0m \u001b[0mthinkplot\u001b[0m\u001b[1;33m\u001b[0m\u001b[1;33m\u001b[0m\u001b[0m\n\u001b[0;32m     10\u001b[0m \u001b[1;32mimport\u001b[0m \u001b[0mthinkstats2\u001b[0m\u001b[1;33m\u001b[0m\u001b[1;33m\u001b[0m\u001b[0m\n",
      "\u001b[1;31mModuleNotFoundError\u001b[0m: No module named 'thinkdsp'"
     ]
    }
   ],
   "source": [
    "#เป็นการประกาศ Library เพื่อนำมาใช้งาน\n",
    "from __future__ import print_function, division\n",
    "\n",
    "%matplotlib inline\n",
    "import warnings\n",
    "warnings.filterwarnings('ignore')\n",
    "\n",
    "import thinkdsp\n",
    "import thinkplot\n",
    "import thinkstats2 \n",
    "\n",
    "import numpy as np\n",
    "\n",
    "from ipywidgets import interact, interactive, fixed\n",
    "import ipywidgets as widgets"
   ]
  },
  {
   "cell_type": "code",
   "execution_count": null,
   "metadata": {},
   "outputs": [],
   "source": [
    "#สร้างสัญญาณรบกวนอย่างง่าย แบบสุ่ม (uncorrelated uniform noise)\n",
    "thinkdsp.random_seed(21)"
   ]
  },
  {
   "cell_type": "code",
   "execution_count": null,
   "metadata": {},
   "outputs": [],
   "source": [
    "#เป็นการนำสัญญาณไปรวมกับ uncorrelated uniform noise ที่ random ขึ้นมา\n",
    "signal = thinkdsp.UncorrelatedUniformNoise()"
   ]
  },
  {
   "cell_type": "code",
   "execution_count": null,
   "metadata": {},
   "outputs": [],
   "source": [
    "#การสร้างเสียงขึ้นจากสัญญาณที่ random ขึ้น โดยให้ ระยะเวลา  = 0.5 และ framerate = 5512\n",
    "wave = signal.make_wave(duration=0.5, framerate=5512)\n",
    "wave.make_audio()"
   ]
  },
  {
   "cell_type": "code",
   "execution_count": null,
   "metadata": {},
   "outputs": [],
   "source": [
    "#ลักษณะของ segment\n",
    "segment = wave.segment(duration=0.1)\n",
    "segment.plot(linewidth=1)\n",
    "thinkplot.config(xlabel='time',\n",
    "                 ylabel='amplitude',\n",
    "                 ylim=[-1.05, 1.05],\n",
    "                 legend=False)"
   ]
  },
  {
   "cell_type": "code",
   "execution_count": null,
   "metadata": {},
   "outputs": [],
   "source": [
    "#ลักษณะของ spectrum\n",
    "spectrum = wave.make_spectrum()\n",
    "spectrum.plot(linewidth=0.5)\n",
    "thinkplot.config(xlabel='frequency (Hz)',\n",
    "                 ylabel='amplitude',\n",
    "                 xlim=[0, spectrum.fs[-1]])"
   ]
  },
  {
   "cell_type": "code",
   "execution_count": null,
   "metadata": {},
   "outputs": [],
   "source": [
    "#สัญญาณเสียงเป็นสัญญาณที่มีพลังงานเป็นแอมปริจูล\n",
    "spectrum.plot_power(linewidth=0.5)\n",
    "thinkplot.config(xlabel='frequency (Hz)',\n",
    "                 ylabel='power',\n",
    "                 xlim=[0, spectrum.fs[-1]])"
   ]
  },
  {
   "cell_type": "code",
   "execution_count": null,
   "metadata": {},
   "outputs": [],
   "source": [
    "#Brownian noise\n",
    "#เสียงบราวนี่ถูกสร้างขึ้นโดยการเพิ่มลำดับขั้นตอนแบบสุ่ม\n",
    "signal = thinkdsp.BrownianNoise()\n",
    "wave = signal.make_wave(duration=0.5, framerate=5512)\n",
    "wave.make_audio()"
   ]
  },
  {
   "cell_type": "code",
   "execution_count": null,
   "metadata": {},
   "outputs": [],
   "source": [
    "#ลักษณะของคลื่น\n",
    "wave.plot(linewidth=1)\n",
    "thinkplot.config(xlabel='time',\n",
    "                 ylabel='amplitude',\n",
    "                 ylim=[-1.05, 1.05])"
   ]
  },
  {
   "cell_type": "code",
   "execution_count": null,
   "metadata": {},
   "outputs": [],
   "source": [
    "#สเปกตรัมพลังงานในระดับเชิงเส้น\n",
    "spectrum = wave.make_spectrum()\n",
    "spectrum.plot_power(linewidth=0.5)\n",
    "thinkplot.config(xlabel='frequency (Hz)',\n",
    "                 ylabel='power',\n",
    "                 xlim=[0, spectrum.fs[-1]])"
   ]
  },
  {
   "cell_type": "code",
   "execution_count": null,
   "metadata": {},
   "outputs": [],
   "source": [
    "#องค์ประกอบ f = 0 มีขนาดเล็กมากดังนั้นในสเกล\n",
    "#เราสามารถเห็นสเปกตรัมที่เหลือดีขึ้น\n",
    "spectrum.hs[0] = 0\n",
    "\n",
    "spectrum.plot_power(linewidth=0.5)\n",
    "thinkplot.config(xlabel='frequency (Hz)',\n",
    "                 ylabel='power',\n",
    "                 xscale='log',\n",
    "                 yscale='log',\n",
    "                 xlim=[0, spectrum.fs[-1]])"
   ]
  },
  {
   "cell_type": "code",
   "execution_count": null,
   "metadata": {},
   "outputs": [],
   "source": [
    "#Pink noise มีลักษณะโดยพารามิเตอร์โดยปกติจะมีค่าระหว่าง 0 ถึง 2\n",
    "signal = thinkdsp.PinkNoise(beta=0)\n",
    "wave = signal.make_wave(duration=0.5)\n",
    "wave.make_audio()"
   ]
  },
  {
   "cell_type": "code",
   "execution_count": null,
   "metadata": {},
   "outputs": [],
   "source": [
    "signal = thinkdsp.PinkNoise(beta=2)\n",
    "wave = signal.make_wave(duration=0.5)\n",
    "wave.make_audio()"
   ]
  },
  {
   "cell_type": "code",
   "execution_count": null,
   "metadata": {},
   "outputs": [],
   "source": [
    "#แสดงสเปคตรัมพลังงานสำหรับสัญญาณเสียง\n",
    "colors = ['#9ecae1', '#4292c6', '#2171b5']\n",
    "betas = [0, 1, 2]\n",
    "\n",
    "for beta, color in zip(betas, colors):\n",
    "    signal = thinkdsp.PinkNoise(beta=beta)\n",
    "    wave = signal.make_wave(duration=0.5, framerate=1024)\n",
    "    spectrum = wave.make_spectrum()\n",
    "    spectrum.hs[0] = 0\n",
    "    spectrum.plot_power(linewidth=1, color=color)\n",
    "    \n",
    "thinkplot.config(xlabel='frequency (Hz)',\n",
    "                 ylabel='power',\n",
    "                 xscale='log',\n",
    "                 yscale='log',\n",
    "                 xlim=[0, spectrum.fs[-1]])"
   ]
  },
  {
   "cell_type": "code",
   "execution_count": null,
   "metadata": {},
   "outputs": [],
   "source": [
    "#Uncorrelated Gaussian noise การแยกเสียงสัญญาณที่ไม่เกี่ยวข้อง\n",
    "signal = thinkdsp.UncorrelatedGaussianNoise()\n",
    "wave = signal.make_wave(duration=0.5, framerate=11025)\n",
    "wave.plot(linewidth=0.5)\n",
    "thinkplot.config(xlabel='time',\n",
    "                 ylabel='amplitude')"
   ]
  },
  {
   "cell_type": "code",
   "execution_count": null,
   "metadata": {},
   "outputs": [],
   "source": [
    "#สเปกตรัมของเสียง UG ก็เป็นเสียงของ UG\n",
    "spectrum = wave.make_spectrum()\n",
    "spectrum.plot_power(linewidth=1)\n",
    "thinkplot.config(xlabel='frequency (Hz)',\n",
    "                 ylabel='power',\n",
    "                 xlim=[0, spectrum.fs[-1]])"
   ]
  },
  {
   "cell_type": "code",
   "execution_count": null,
   "metadata": {},
   "outputs": [],
   "source": [
    "#เราสามารถใช้พล็อตเพื่อทดสอบการกระจายตัวของสเปกตรัมพลังงาน\n",
    "from thinkstats2 import NormalProbabilityPlot\n",
    "\n",
    "NormalProbabilityPlot(spectrum.real, label='real part')\n",
    "thinkplot.config(xlabel='normal sample',\n",
    "                 ylabel='power',\n",
    "                 ylim=[-250, 250],\n",
    "                 legend=True,\n",
    "                 loc='lower right')"
   ]
  },
  {
   "cell_type": "code",
   "execution_count": null,
   "metadata": {},
   "outputs": [],
   "source": [
    "#เส้นตรงบนพล็อตบ่งชี้ว่าการกระจายของสเปกตรัมคือ Gaussian\n",
    "NormalProbabilityPlot(spectrum.imag, label='imag part')\n",
    "thinkplot.config(xlabel='normal sample',\n",
    "                 ylabel='power',\n",
    "                 ylim=[-250, 250],\n",
    "                 legend=True,\n",
    "                 loc='lower right')"
   ]
  },
  {
   "cell_type": "code",
   "execution_count": null,
   "metadata": {},
   "outputs": [],
   "source": []
  }
 ]
}